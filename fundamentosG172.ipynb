{
  "nbformat": 4,
  "nbformat_minor": 0,
  "metadata": {
    "colab": {
      "provenance": [],
      "authorship_tag": "ABX9TyPOOA8l87ctL7ZXXzpjK7iT",
      "include_colab_link": true
    },
    "kernelspec": {
      "name": "python3",
      "display_name": "Python 3"
    },
    "language_info": {
      "name": "python"
    }
  },
  "cells": [
    {
      "cell_type": "markdown",
      "metadata": {
        "id": "view-in-github",
        "colab_type": "text"
      },
      "source": [
        "<a href=\"https://colab.research.google.com/github/sebasrae/Tienda-1/blob/master/fundamentosG172.ipynb\" target=\"_parent\"><img src=\"https://colab.research.google.com/assets/colab-badge.svg\" alt=\"Open In Colab\"/></a>"
      ]
    },
    {
      "cell_type": "code",
      "execution_count": 1,
      "metadata": {
        "colab": {
          "base_uri": "https://localhost:8080/",
          "height": 88
        },
        "id": "rIHaglYUJjXj",
        "outputId": "94f5d645-54d0-4f44-bc09-2bda7bda2a9c"
      },
      "outputs": [
        {
          "output_type": "stream",
          "name": "stdout",
          "text": [
            "Hola mundo\n",
            "aprendiendo python\n",
            "25\n"
          ]
        },
        {
          "output_type": "execute_result",
          "data": {
            "text/plain": [
              "' comentario 1\\ncomentario 2\\ncomentario 3\\ncomnentario en bloke'"
            ],
            "application/vnd.google.colaboratory.intrinsic+json": {
              "type": "string"
            }
          },
          "metadata": {},
          "execution_count": 1
        }
      ],
      "source": [
        "print(\"Hola mundo\")\n",
        "print(\"aprendiendo python\")#Muestra por pantalla\n",
        "edad=25 #variable\n",
        "print(edad)\n",
        "\n",
        "#comentarios en linea\n",
        "''' comentario 1\n",
        "comentario 2\n",
        "comentario 3\n",
        "comnentario en bloke'''"
      ]
    },
    {
      "cell_type": "code",
      "source": [
        "#tipo de datos\n",
        "salario1=3580000\n",
        "print(salario1)\n",
        "type(salario1) #tipo de dato de la variable\n",
        "\n",
        "numPi=3.141516 #constante- el valor no cambia\n",
        "promedio=2.8\n",
        "print(type(promedio))\n",
        "\n",
        "nombreEmpleado=\"juan perez\"\n",
        "print(type(nombreEmpleado))\n",
        "\n",
        "disponible=True\n",
        "print(type(disponible))\n",
        "\n",
        "lista=[8,9,6,5]\n",
        "print(type(lista))\n",
        "\n",
        "tupla=(8,9,6,5)\n",
        "print(type(tupla))\n",
        "\n",
        "conjunto=set([8,9,6,5])\n",
        "print(type(conjunto))\n",
        "\n",
        "diccionario={\"nombre\":\"juan\",\"correo\":\"juanQgmail.com\"}\n",
        "print(type(diccionario))"
      ],
      "metadata": {
        "colab": {
          "base_uri": "https://localhost:8080/"
        },
        "id": "Fe5LkTKrRtfY",
        "outputId": "14085298-63c0-4a76-922f-625ad7a1ffa2"
      },
      "execution_count": 10,
      "outputs": [
        {
          "output_type": "stream",
          "name": "stdout",
          "text": [
            "3580000\n",
            "<class 'float'>\n",
            "<class 'str'>\n",
            "<class 'bool'>\n",
            "<class 'list'>\n",
            "<class 'tuple'>\n",
            "<class 'set'>\n",
            "<class 'dict'>\n"
          ]
        }
      ]
    },
    {
      "cell_type": "code",
      "source": [
        "#entrada de datos desde teclado\n",
        "numero1=int(input(\"digite un numero: \"))\n",
        "numero2=int(input(\"digite un numero: \"))\n",
        "\n",
        "suma=numero1+numero2\n",
        "print(suma)\n",
        "\n",
        "nombre=input(\"digite su nombre\")\n",
        "print(\"hola \",nombre,\" como estas?\" )\n",
        "\n",
        "disponibilidad=bool(input(\"Digite disponibilidad: \"))\n",
        "print(type(disponibilidad))\n",
        "print(disponible)\n"
      ],
      "metadata": {
        "colab": {
          "base_uri": "https://localhost:8080/"
        },
        "id": "ZyWjmZXaX5eK",
        "outputId": "7d5a52a7-a73f-4020-8e38-0bffd9071491"
      },
      "execution_count": 13,
      "outputs": [
        {
          "output_type": "stream",
          "name": "stdout",
          "text": [
            "digite un numero: 5\n",
            "digite un numero: 4\n",
            "9\n",
            "digite su nombresebas\n",
            "hola  sebas  como estas?\n",
            "Digite disponibilidad: si\n",
            "<class 'bool'>\n",
            "True\n"
          ]
        }
      ]
    },
    {
      "cell_type": "markdown",
      "source": [],
      "metadata": {
        "id": "Kc0ky-4vjJh7"
      }
    },
    {
      "cell_type": "code",
      "source": [
        "#operadores aritmeticos + suma , - resta, / divicion ,//divicion entera ,*%residuo modulo.\n",
        "numero1=int(input(\"digite un numero: \"))\n",
        "numero2=int(input(\"digite un numero: \"))\n",
        "\n",
        "#suma\n",
        "suma=numero1+numero2\n",
        "print(\"lasuma es: \",suma)\n",
        "\n",
        "#resta\n",
        "resta=numero1-numero2\n",
        "print(f\"la resta es: {resta} \")\n",
        "\n",
        "#multiplicar\n",
        "multiplicar=numero1*numero2\n",
        "print(f\"la multiplicacion es: {multiplicar} \")\n",
        "\n",
        "#divicion\n",
        "divicion=numero1/numero2\n",
        "print(f\"la divicion es: {divicion} \")\n",
        "\n",
        "#divicion entrea\n",
        "divicionEntera=numero1//numero2\n",
        "print(f\"la divicion entera es: {divicionEntera} \")\n",
        "\n",
        "#potenciacion\n",
        "potenciacion=numero1**numero2\n",
        "print(f\"el modulo es: {potenciacion} \")\n",
        "\n",
        "#modulo\n",
        "modulo=numero1%numero2\n",
        "print(f\"el modulo es: {modulo} \")\n"
      ],
      "metadata": {
        "colab": {
          "base_uri": "https://localhost:8080/"
        },
        "id": "V_mcjoeZidVw",
        "outputId": "f3291b2a-dbd0-4252-de10-3ba03c57b54c"
      },
      "execution_count": 25,
      "outputs": [
        {
          "output_type": "stream",
          "name": "stdout",
          "text": [
            "digite un numero: 120\n",
            "digite un numero: 50\n",
            "lasuma es:  170\n",
            "la resta es: 70 \n",
            "la multiplicacion es: 6000 \n",
            "la divicion es: 2.4 \n",
            "la divicion entera es: 2 \n",
            "el modulo es: 91004381500021497733275852753425663249271526032565862400000000000000000000000000000000000000000000000000 \n",
            "el modulo es: 20 \n"
          ]
        }
      ]
    },
    {
      "cell_type": "code",
      "source": [
        "#operadores relacionales == igual, !=diferente, > mayor que,< que ,>= mayor igual, >menor igual\n",
        "\n",
        "resultado=\"Juan\"==\"juan\"\n",
        "print(resultado)\n",
        "\n",
        "resultado=\"Juan\"!=\"juan\"\n",
        "print(resultado)\n",
        "\n",
        "resultado=\"Juan\">\"juan\"\n",
        "print(resultado)\n",
        "\n",
        "resultado=\"Juan\">\"juan\"\n",
        "print(resultado)\n",
        "\n",
        "\n"
      ],
      "metadata": {
        "colab": {
          "base_uri": "https://localhost:8080/"
        },
        "id": "sJ1cPYKRqhKr",
        "outputId": "70a8b129-8fe4-4767-ba97-8fae47a3cd65"
      },
      "execution_count": 27,
      "outputs": [
        {
          "output_type": "stream",
          "name": "stdout",
          "text": [
            "False\n",
            "True\n",
            "False\n"
          ]
        }
      ]
    },
    {
      "cell_type": "markdown",
      "source": [],
      "metadata": {
        "id": "hf8pemjYjGRH"
      }
    }
  ]
}